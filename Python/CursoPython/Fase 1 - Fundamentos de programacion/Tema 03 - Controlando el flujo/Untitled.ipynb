{
 "cells": [
  {
   "cell_type": "code",
   "execution_count": 1,
   "id": "e66dd046-122c-41d0-800b-93c9cdaacde6",
   "metadata": {},
   "outputs": [
    {
     "name": "stdout",
     "output_type": "stream",
     "text": [
      "Hola\n",
      "4\n",
      "Adios\n",
      "[1, 2, 3]\n"
     ]
    }
   ],
   "source": [
    "elementos = [\"Hola\", 4, \"Adios\", [1,2,3]]\n",
    "\n",
    "for e in elementos:\n",
    "    print(e)"
   ]
  },
  {
   "cell_type": "code",
   "execution_count": 2,
   "id": "db9fb6b6-58d8-488a-b295-1b3f8c2bc5bd",
   "metadata": {},
   "outputs": [
    {
     "name": "stdout",
     "output_type": "stream",
     "text": [
      "0 Hola\n",
      "1 4\n",
      "2 Adios\n",
      "3 [1, 2, 3]\n"
     ]
    }
   ],
   "source": [
    "for i,e in enumerate(elementos):\n",
    "    print(i,e)"
   ]
  },
  {
   "cell_type": "code",
   "execution_count": 3,
   "id": "cc255b5a-447a-49d1-bf48-08d92a9f293b",
   "metadata": {},
   "outputs": [],
   "source": [
    "a, b, c = 10, 50, 100"
   ]
  },
  {
   "cell_type": "code",
   "execution_count": 4,
   "id": "8e99e0ec-9d90-49ec-ad28-5caeca2a3b55",
   "metadata": {},
   "outputs": [
    {
     "name": "stdout",
     "output_type": "stream",
     "text": [
      "10 50 100\n"
     ]
    }
   ],
   "source": [
    "print(a,b,c)"
   ]
  },
  {
   "cell_type": "code",
   "execution_count": 5,
   "id": "a84af3c7-4a9a-4f56-b7e4-8f45d9c1e0dc",
   "metadata": {},
   "outputs": [],
   "source": [
    "(a, b, c) = (10, 50, 100)"
   ]
  },
  {
   "cell_type": "code",
   "execution_count": 6,
   "id": "2769cdda-dcc0-4400-b1bb-a2d1ed2b3cd5",
   "metadata": {},
   "outputs": [
    {
     "name": "stdout",
     "output_type": "stream",
     "text": [
      "10 50 100\n"
     ]
    }
   ],
   "source": [
    "print(a,b,c)"
   ]
  },
  {
   "cell_type": "code",
   "execution_count": 7,
   "id": "edbc3342-87b1-4c2a-8c32-57d8cb277b04",
   "metadata": {},
   "outputs": [],
   "source": [
    "def funcion():\n",
    "    return 10, 50, 100\n",
    "\n",
    "a,b,c = funcion()"
   ]
  },
  {
   "cell_type": "code",
   "execution_count": 9,
   "id": "ec585aa1-2c38-4b15-a6e5-b739cd18c816",
   "metadata": {},
   "outputs": [
    {
     "data": {
      "text/plain": [
       "(10, 50, 100)"
      ]
     },
     "execution_count": 9,
     "metadata": {},
     "output_type": "execute_result"
    }
   ],
   "source": [
    "a,b,c"
   ]
  },
  {
   "cell_type": "code",
   "execution_count": 11,
   "id": "a0cf00e0-4f18-4667-ab3b-b44fcee0da1c",
   "metadata": {},
   "outputs": [
    {
     "data": {
      "text/plain": [
       "[(0, 'Hola'), (1, 4), (2, 'Adios'), (3, [1, 2, 3])]"
      ]
     },
     "execution_count": 11,
     "metadata": {},
     "output_type": "execute_result"
    }
   ],
   "source": [
    "list(enumerate(elementos))"
   ]
  },
  {
   "cell_type": "code",
   "execution_count": 13,
   "id": "78d7d0c3-ee7d-4f84-abcd-3dcb28b459b9",
   "metadata": {},
   "outputs": [
    {
     "name": "stdout",
     "output_type": "stream",
     "text": [
      "(0, 'Hola')\n",
      "(1, 4)\n",
      "(2, 'Adios')\n",
      "(3, [1, 2, 3])\n"
     ]
    }
   ],
   "source": [
    "for tupla in enumerate(elementos):\n",
    "    print(tupla)"
   ]
  },
  {
   "cell_type": "code",
   "execution_count": 14,
   "id": "e9fcfb3d-5dfa-4b6f-bd8d-6ccd903be071",
   "metadata": {},
   "outputs": [
    {
     "name": "stdout",
     "output_type": "stream",
     "text": [
      "0 Hola\n",
      "1 4\n",
      "2 Adios\n",
      "3 [1, 2, 3]\n"
     ]
    }
   ],
   "source": [
    "for indice,valor in enumerate(elementos):\n",
    "    print(indice, valor)"
   ]
  },
  {
   "cell_type": "code",
   "execution_count": null,
   "id": "6b255bd0-08ae-4938-ac82-420c4d03e566",
   "metadata": {},
   "outputs": [],
   "source": []
  }
 ],
 "metadata": {
  "kernelspec": {
   "display_name": "Python 3 (ipykernel)",
   "language": "python",
   "name": "python3"
  },
  "language_info": {
   "codemirror_mode": {
    "name": "ipython",
    "version": 3
   },
   "file_extension": ".py",
   "mimetype": "text/x-python",
   "name": "python",
   "nbconvert_exporter": "python",
   "pygments_lexer": "ipython3",
   "version": "3.12.4"
  }
 },
 "nbformat": 4,
 "nbformat_minor": 5
}
