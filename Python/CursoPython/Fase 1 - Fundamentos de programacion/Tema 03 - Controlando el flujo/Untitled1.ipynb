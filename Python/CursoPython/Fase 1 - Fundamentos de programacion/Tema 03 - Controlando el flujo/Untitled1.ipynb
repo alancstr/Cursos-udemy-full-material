{
 "cells": [
  {
   "cell_type": "code",
   "execution_count": 1,
   "id": "dce3ef52-13dc-466e-a4c7-9d682e824d9f",
   "metadata": {},
   "outputs": [],
   "source": [
    "lista = [\"hola\", 10, \"Adios\", [50,100,150]]"
   ]
  },
  {
   "cell_type": "code",
   "execution_count": 2,
   "id": "44c59f66-313a-4583-a53c-9944b7c55459",
   "metadata": {},
   "outputs": [
    {
     "data": {
      "text/plain": [
       "[50, 100, 150]"
      ]
     },
     "execution_count": 2,
     "metadata": {},
     "output_type": "execute_result"
    }
   ],
   "source": [
    "lista[-1]"
   ]
  },
  {
   "cell_type": "code",
   "execution_count": 3,
   "id": "758ee494-0b28-40b2-9527-1593e8d19619",
   "metadata": {},
   "outputs": [
    {
     "data": {
      "text/plain": [
       "150"
      ]
     },
     "execution_count": 3,
     "metadata": {},
     "output_type": "execute_result"
    }
   ],
   "source": [
    "lista[-1][-1]"
   ]
  },
  {
   "cell_type": "code",
   "execution_count": 4,
   "id": "68e86712-d2d8-44e9-91fe-528ae47f268c",
   "metadata": {},
   "outputs": [
    {
     "name": "stdout",
     "output_type": "stream",
     "text": [
      "50\n",
      "100\n",
      "150\n"
     ]
    }
   ],
   "source": [
    "for numero in lista[-1]:\n",
    "    print(numero)"
   ]
  },
  {
   "cell_type": "code",
   "execution_count": 8,
   "id": "8ac7b3aa-e97b-4a48-b243-b64f6845afda",
   "metadata": {},
   "outputs": [],
   "source": [
    "lista = [\n",
    "    \"Esto es un texto\",\n",
    "    (1,2,3,4,5,),\n",
    "    [\"azul\", \"verde\", \"amarillo\"]\n",
    "]"
   ]
  },
  {
   "cell_type": "code",
   "execution_count": 10,
   "id": "905c5757-81c0-4567-91c9-fd5f297e6027",
   "metadata": {},
   "outputs": [
    {
     "name": "stdout",
     "output_type": "stream",
     "text": [
      "Esto es un texto\n",
      "(1, 2, 3, 4, 5)\n",
      "['azul', 'verde', 'amarillo']\n"
     ]
    }
   ],
   "source": [
    "for coleccion in lista:\n",
    "    print(coleccion)"
   ]
  },
  {
   "cell_type": "code",
   "execution_count": 12,
   "id": "16b3774a-9ba8-407f-bbba-2888da3d8879",
   "metadata": {},
   "outputs": [
    {
     "name": "stdout",
     "output_type": "stream",
     "text": [
      "Esto es un texto -> E\n",
      "Esto es un texto -> s\n",
      "Esto es un texto -> t\n",
      "Esto es un texto -> o\n",
      "Esto es un texto ->  \n",
      "Esto es un texto -> e\n",
      "Esto es un texto -> s\n",
      "Esto es un texto ->  \n",
      "Esto es un texto -> u\n",
      "Esto es un texto -> n\n",
      "Esto es un texto ->  \n",
      "Esto es un texto -> t\n",
      "Esto es un texto -> e\n",
      "Esto es un texto -> x\n",
      "Esto es un texto -> t\n",
      "Esto es un texto -> o\n",
      "(1, 2, 3, 4, 5) -> 1\n",
      "(1, 2, 3, 4, 5) -> 2\n",
      "(1, 2, 3, 4, 5) -> 3\n",
      "(1, 2, 3, 4, 5) -> 4\n",
      "(1, 2, 3, 4, 5) -> 5\n",
      "['azul', 'verde', 'amarillo'] -> azul\n",
      "['azul', 'verde', 'amarillo'] -> verde\n",
      "['azul', 'verde', 'amarillo'] -> amarillo\n"
     ]
    }
   ],
   "source": [
    "for coleccion in lista:\n",
    "    for elemento in coleccion:\n",
    "        print(coleccion, \"->\", elemento)"
   ]
  },
  {
   "cell_type": "code",
   "execution_count": 16,
   "id": "549c9fc8-ca11-41f7-8d3a-888f799c7188",
   "metadata": {},
   "outputs": [
    {
     "name": "stdout",
     "output_type": "stream",
     "text": [
      "E\n",
      "s\n",
      "t\n",
      "o\n",
      " \n",
      "e\n",
      "s\n",
      " \n",
      "u\n",
      "n\n",
      " \n",
      "t\n",
      "e\n",
      "x\n",
      "t\n",
      "o\n",
      "1\n",
      "2\n",
      "3\n",
      "4\n",
      "5\n",
      "azul\n",
      "verde\n",
      "amarillo\n"
     ]
    }
   ],
   "source": [
    " for indice_coleccion, coleccion in enumerate(lista):\n",
    "    for indice_elemento, elemento in enumerate(coleccion):\n",
    "        print(lista[indice_coleccion][indice_elemento])"
   ]
  },
  {
   "cell_type": "code",
   "execution_count": null,
   "id": "c5d2fb53-d9df-4d1c-982e-801b60e11b7c",
   "metadata": {},
   "outputs": [],
   "source": []
  }
 ],
 "metadata": {
  "kernelspec": {
   "display_name": "Python 3 (ipykernel)",
   "language": "python",
   "name": "python3"
  },
  "language_info": {
   "codemirror_mode": {
    "name": "ipython",
    "version": 3
   },
   "file_extension": ".py",
   "mimetype": "text/x-python",
   "name": "python",
   "nbconvert_exporter": "python",
   "pygments_lexer": "ipython3",
   "version": "3.12.4"
  }
 },
 "nbformat": 4,
 "nbformat_minor": 5
}
